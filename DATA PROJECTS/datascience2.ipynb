{
 "cells": [
  {
   "cell_type": "code",
   "execution_count": 2,
   "id": "49fbb3ca-212a-475c-bbc6-ec7acf5988bd",
   "metadata": {},
   "outputs": [],
   "source": [
    "import json as js\n",
    "\n",
    "def clean(data):\n",
    "    final_users = []\n",
    "    already_names = set()\n",
    "    already_ids = set()\n",
    "\n",
    "    # Clean users\n",
    "    for i in data['users']:\n",
    "        names = i['name'].strip()\n",
    "        if names == '':\n",
    "            continue\n",
    "\n",
    "        i['friends'] = list(set(i['friends']))  # remove duplicate friends\n",
    "\n",
    "        if names in already_names:\n",
    "            continue\n",
    "        already_names.add(names)\n",
    "\n",
    "        ids = i['id']\n",
    "        if ids in already_ids:\n",
    "            continue\n",
    "        already_ids.add(ids)\n",
    "\n",
    "        final_users.append(i)\n",
    "\n",
    "    data['users'] = final_users\n",
    "\n",
    "    # Clean pages\n",
    "    final_pages = []\n",
    "    already_page_names = set()\n",
    "    already_page_ids = set()\n",
    "\n",
    "    for p in data['pages']:\n",
    "        pname = p['name'].strip()\n",
    "        if pname == '':\n",
    "            continue\n",
    "\n",
    "        if pname in already_page_names:\n",
    "            continue\n",
    "        already_page_names.add(pname)\n",
    "\n",
    "        pid = p['id']\n",
    "        if pid in already_page_ids:\n",
    "            continue\n",
    "        already_page_ids.add(pid)\n",
    "\n",
    "        final_pages.append(p)\n",
    "\n",
    "    data['pages'] = final_pages\n",
    "\n",
    "    return data\n",
    "A = js.load(open('duplicate.json', 'r'))\n",
    "data = clean(A)\n",
    "js.dump(data, open('cleaned_data.json','w'), indent=4)\n"
   ]
  },
  {
   "cell_type": "code",
   "execution_count": null,
   "id": "8f792b9a-2bd0-4b0a-9078-911b8b8a63a5",
   "metadata": {},
   "outputs": [],
   "source": []
  }
 ],
 "metadata": {
  "kernelspec": {
   "display_name": "Python 3 (ipykernel)",
   "language": "python",
   "name": "python3"
  },
  "language_info": {
   "codemirror_mode": {
    "name": "ipython",
    "version": 3
   },
   "file_extension": ".py",
   "mimetype": "text/x-python",
   "name": "python",
   "nbconvert_exporter": "python",
   "pygments_lexer": "ipython3",
   "version": "3.13.5"
  }
 },
 "nbformat": 4,
 "nbformat_minor": 5
}
