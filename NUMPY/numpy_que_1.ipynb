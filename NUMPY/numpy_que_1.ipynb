{
 "cells": [
  {
   "cell_type": "markdown",
   "id": "7ac4c275-6f99-4a3e-8ba0-5594b10492f0",
   "metadata": {},
   "source": [
    "##### Create a NumPy array representing daily rainfall (mm) for 30 days, with random values between 0 and 100"
   ]
  },
  {
   "cell_type": "code",
   "execution_count": 6,
   "id": "631975ad-2b14-4d69-8c06-14ea7c7fa1a9",
   "metadata": {},
   "outputs": [
    {
     "data": {
      "text/plain": [
       "array([53.77409646, 67.52526572, 69.10686544, 40.04204049, 19.78090066,\n",
       "       59.98201861, 10.58778968, 29.59958583, 77.03796957, 40.77993336,\n",
       "       88.41296443, 54.56425713, 98.83590816, 83.58955054, 73.56860632,\n",
       "       62.62858516, 75.37187954, 38.41457913, 67.21668783, 67.34805139,\n",
       "        9.55318139, 37.85564825,  7.80029517, 77.98114468, 19.85226866,\n",
       "       80.71885425, 42.3870325 , 37.76393659, 39.53875338, 81.74599981])"
      ]
     },
     "execution_count": 6,
     "metadata": {},
     "output_type": "execute_result"
    }
   ],
   "source": [
    "import numpy as np\n",
    "rainfall= np.random.uniform(0,100,30) \n",
    "rainfall\n",
    "# unform is used for fair chance. i mean if uniform is not used it can gice output as 0.1,0.2...thats wrong as it is focusing to 0...with uniform it can give 0.1,4.5,8.9,etc"
   ]
  },
  {
   "cell_type": "markdown",
   "id": "9853672b-f6b9-4bab-9fcb-c3bb9a48be64",
   "metadata": {},
   "source": [
    "##### Generate a 12×5 array representing monthly sales for 5 stores, and calculate total yearly sales per store"
   ]
  },
  {
   "cell_type": "code",
   "execution_count": 8,
   "id": "2482b882-c54e-4923-9332-6681f30c9953",
   "metadata": {},
   "outputs": [
    {
     "data": {
      "text/plain": [
       "array([1251376, 1413982, 1279582, 1574227, 1630421])"
      ]
     },
     "execution_count": 8,
     "metadata": {},
     "output_type": "execute_result"
    }
   ],
   "source": [
    "sales = np.random.randint(50000, 200000, size=(12, 5))\n",
    "ans = np.sum(sales , axis=0)\n",
    "ans"
   ]
  },
  {
   "cell_type": "markdown",
   "id": "3eb3d780-7661-423d-a1f4-f353d2025151",
   "metadata": {},
   "source": [
    "#####  Create an array of timestamps for each hour of a day (24 values) using np.arange and multiplyby random energy-consumption data."
   ]
  },
  {
   "cell_type": "code",
   "execution_count": 12,
   "id": "a8cb3d61-db99-4c9f-a07b-8727a79b621a",
   "metadata": {},
   "outputs": [
    {
     "data": {
      "text/plain": [
       "array([ 29,  56,  90,  48, 115, 156, 294, 368, 414, 490, 176, 168, 637,\n",
       "       322, 315, 352, 238, 738, 475, 720, 777, 242, 483, 960])"
      ]
     },
     "execution_count": 12,
     "metadata": {},
     "output_type": "execute_result"
    }
   ],
   "source": [
    "timestamps = np.arange(1,25)\n",
    "energy = np.random.randint(10,50, size=24)\n",
    "ans =timestamps*energy\n",
    "ans"
   ]
  },
  {
   "cell_type": "markdown",
   "id": "fd66a6ab-58a6-4409-816b-fb98250b1543",
   "metadata": {},
   "source": [
    "##### From your rainfall data array, extract readings from day 10 to day 20"
   ]
  },
  {
   "cell_type": "code",
   "execution_count": 13,
   "id": "d5083aec-fc2a-4a1e-9f86-f4ba91a9e49c",
   "metadata": {},
   "outputs": [
    {
     "data": {
      "text/plain": [
       "array([88.41296443, 54.56425713, 98.83590816, 83.58955054, 73.56860632,\n",
       "       62.62858516, 75.37187954, 38.41457913, 67.21668783, 67.34805139,\n",
       "        9.55318139])"
      ]
     },
     "execution_count": 13,
     "metadata": {},
     "output_type": "execute_result"
    }
   ],
   "source": [
    "extracted = rainfall[10:21]\n",
    "extracted"
   ]
  },
  {
   "cell_type": "markdown",
   "id": "dadf4d1a-536e-4e80-8eb0-da3aac060d7f",
   "metadata": {},
   "source": [
    "##### From a 7×24 temperature matrix, get day 3 & evening hours 18:00–23:00"
   ]
  },
  {
   "cell_type": "code",
   "execution_count": 14,
   "id": "9ebf6c6c-5e02-4899-baf6-e0d0bad9d04f",
   "metadata": {},
   "outputs": [
    {
     "data": {
      "text/plain": [
       "array([29.73876518, 23.62914898, 31.5802697 , 24.60594543, 27.77350001,\n",
       "       39.01662898])"
      ]
     },
     "execution_count": 14,
     "metadata": {},
     "output_type": "execute_result"
    }
   ],
   "source": [
    "temp = np.random.uniform(15,40 ,size=(7,24)) \n",
    "extract= temp[2,18:24]\n",
    "extract"
   ]
  },
  {
   "cell_type": "markdown",
   "id": "62b32ccb-d4d0-4f89-88f9-4ab444ef1435",
   "metadata": {},
   "source": [
    "##### Reverse a daily sales array (latest → oldest)"
   ]
  },
  {
   "cell_type": "code",
   "execution_count": 15,
   "id": "4a1cd485-9465-4261-a7b2-ab55bd98e56a",
   "metadata": {},
   "outputs": [
    {
     "name": "stdout",
     "output_type": "stream",
     "text": [
      "[4279 1365 4759 3151 4202 2882 2233 1409 3672 4188 4053 1881 3478 2402\n",
      " 3430 1152 4286 1975 1559 1278 2582 1618 2040 1845 1952 3111 3844 2548\n",
      " 3126 2374]\n"
     ]
    }
   ],
   "source": [
    "sales = np.random.randint(1000, 5000, size=30)\n",
    "\n",
    "reversed_sales = sales[::-1]\n",
    "print(reversed_sales)\n"
   ]
  },
  {
   "cell_type": "markdown",
   "id": "e0ccc822-5aa3-4e5f-83db-36d7f22298c1",
   "metadata": {},
   "source": [
    "##### Extract only the top 10 rainfall readings from the dataset using slicing after sorting."
   ]
  },
  {
   "cell_type": "code",
   "execution_count": 16,
   "id": "1eb948b5-32e1-4ae4-a853-85136b6596ab",
   "metadata": {},
   "outputs": [],
   "source": [
    "rain_sort = np.sort(rainfall)"
   ]
  },
  {
   "cell_type": "code",
   "execution_count": 18,
   "id": "e57fac36-ea2d-4891-b76e-f2ecd3636995",
   "metadata": {},
   "outputs": [
    {
     "data": {
      "text/plain": [
       "array([69.10686544, 73.56860632, 75.37187954, 77.03796957, 77.98114468,\n",
       "       80.71885425, 81.74599981, 83.58955054, 88.41296443, 98.83590816])"
      ]
     },
     "execution_count": 18,
     "metadata": {},
     "output_type": "execute_result"
    }
   ],
   "source": [
    "top_10= rain_sort[-10:]\n",
    "top_10"
   ]
  },
  {
   "cell_type": "markdown",
   "id": "a9d5533a-cb9e-42f5-b69a-74de89a122d7",
   "metadata": {},
   "source": [
    "##### Replace missing values (np.nan) in your sales data with the mean of that column"
   ]
  },
  {
   "cell_type": "code",
   "execution_count": 19,
   "id": "69d9a850-b1f3-4e39-a653-362a7187699e",
   "metadata": {},
   "outputs": [
    {
     "data": {
      "text/plain": [
       "array([12000., 15000., 14250., 13000., 14250., 17000.])"
      ]
     },
     "execution_count": 19,
     "metadata": {},
     "output_type": "execute_result"
    }
   ],
   "source": [
    "sales = np.array([12000, 15000, np.nan, 13000, np.nan, 17000])\n",
    "#Here np.nan means “Not a Number”, representing missing or invalid data.\n",
    "#If you use np.mean() directly, it will return nan (because missing values spoil the mean).\n",
    "#So we use:\n",
    "mean_value = np.nanmean(sales)\n",
    "#Step 3 — Replace missing values with the mean\n",
    "sales_filled = np.where(np.isnan(sales), mean_value, sales)\n",
    "sales_filled"
   ]
  }
 ],
 "metadata": {
  "kernelspec": {
   "display_name": "Python 3 (ipykernel)",
   "language": "python",
   "name": "python3"
  },
  "language_info": {
   "codemirror_mode": {
    "name": "ipython",
    "version": 3
   },
   "file_extension": ".py",
   "mimetype": "text/x-python",
   "name": "python",
   "nbconvert_exporter": "python",
   "pygments_lexer": "ipython3",
   "version": "3.13.5"
  }
 },
 "nbformat": 4,
 "nbformat_minor": 5
}
