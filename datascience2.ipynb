{
 "cells": [
  {
   "cell_type": "code",
   "execution_count": 1,
   "id": "49fbb3ca-212a-475c-bbc6-ec7acf5988bd",
   "metadata": {},
   "outputs": [],
   "source": [
    "import json as js\n",
    "def clean(data):\n",
    "    final_data = []\n",
    "    already_added = set()\n",
    "    for i in data['users']:\n",
    "        names = i['name'].strip()\n",
    "        if names == '':         #If the name becomes an empty string (\"\"), we skip the rest of the loop.\n",
    "          continue                #The continue statement jumps to the next user in the loop.\n",
    "                                #matlab ye banda add hi nhi hota hai by (final_data.append(i))\n",
    "\n",
    "        i['friends'] = list(set(i['friends'])) #  remove duplicate friend ID\n",
    "\n",
    "        if names in already_added:\n",
    "            continue\n",
    "        already_added.add(names)\n",
    "        final_data.append(i) # add cleaned user\n",
    "       \n",
    "    \n",
    "    \n",
    "    data['users'] = final_data\n",
    "    return data\n",
    "    \n",
    "A = js.load(open('duplicate.json', 'r'))\n",
    "data = clean(A)\n",
    "js.dump(data,open('cleaned_data.json','w'))\n",
    "    "
   ]
  },
  {
   "cell_type": "code",
   "execution_count": null,
   "id": "8f792b9a-2bd0-4b0a-9078-911b8b8a63a5",
   "metadata": {},
   "outputs": [],
   "source": []
  }
 ],
 "metadata": {
  "kernelspec": {
   "display_name": "Python 3 (ipykernel)",
   "language": "python",
   "name": "python3"
  },
  "language_info": {
   "codemirror_mode": {
    "name": "ipython",
    "version": 3
   },
   "file_extension": ".py",
   "mimetype": "text/x-python",
   "name": "python",
   "nbconvert_exporter": "python",
   "pygments_lexer": "ipython3",
   "version": "3.13.5"
  }
 },
 "nbformat": 4,
 "nbformat_minor": 5
}
